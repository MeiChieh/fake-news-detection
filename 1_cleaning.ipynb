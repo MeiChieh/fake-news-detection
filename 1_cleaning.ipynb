{
 "cells": [
  {
   "cell_type": "code",
   "execution_count": null,
   "metadata": {},
   "outputs": [],
   "source": [
    "import modin.pandas as pd\n",
    "import numpy as np\n",
    "import matplotlib.pyplot as plt\n",
    "import seaborn as sns\n",
    "from sklearn.model_selection import train_test_split\n",
    "from IPython.display import display as dp\n",
    "from helper import *\n",
    "import joblib\n",
    "from joblib import Parallel, delayed\n",
    "\n",
    "sns.set_style(\"darkgrid\")"
   ]
  },
  {
   "cell_type": "markdown",
   "metadata": {},
   "source": [
    "#### 📖 Data Cleaning Table of Contents\n",
    "\n",
    "[__Clean Data__](#clean-data)\n",
    "- [1. Null and duplication detection](#1-null-and-duplication-detection)\n",
    "- [2. Data Type Conversion](#2-type-conversion)\n",
    "    - [2.1 Format date column](#21-format-date-column)\n",
    "    - [2.2 Format subject column](#22-format-subject-column)\n",
    "- [3. Remove rows with extremely short texts](#3-remove-rows-with-extremely-short-texts)\n",
    "- [4. Text Cleaning](#4-text-cleaning)\n",
    "- [5. Combine title and text into one column for modeling](#5-combine-title-and-text-into-one-column-for-modeling)\n",
    "\n",
    "[__Split Datasets__](#split-datasets)\n"
   ]
  },
  {
   "cell_type": "markdown",
   "metadata": {},
   "source": [
    "#### Load Data"
   ]
  },
  {
   "cell_type": "code",
   "execution_count": 41,
   "metadata": {},
   "outputs": [
    {
     "data": {
      "text/plain": [
       "((23481, 4), (21417, 4))"
      ]
     },
     "execution_count": 41,
     "metadata": {},
     "output_type": "execute_result"
    }
   ],
   "source": [
    "fdf = pd.read_csv(\"data/Fake.csv\")\n",
    "tdf = pd.read_csv(\"data/True.csv\")\n",
    "\n",
    "fdf.shape, tdf.shape"
   ]
  },
  {
   "cell_type": "code",
   "execution_count": 42,
   "metadata": {},
   "outputs": [
    {
     "name": "stdout",
     "output_type": "stream",
     "text": [
      "fake news\n"
     ]
    },
    {
     "data": {
      "text/html": [
       "<div>\n",
       "<style scoped>\n",
       "    .dataframe tbody tr th:only-of-type {\n",
       "        vertical-align: middle;\n",
       "    }\n",
       "\n",
       "    .dataframe tbody tr th {\n",
       "        vertical-align: top;\n",
       "    }\n",
       "\n",
       "    .dataframe thead th {\n",
       "        text-align: right;\n",
       "    }\n",
       "</style>\n",
       "<table border=\"1\" class=\"dataframe\">\n",
       "  <thead>\n",
       "    <tr style=\"text-align: right;\">\n",
       "      <th></th>\n",
       "      <th>title</th>\n",
       "      <th>text</th>\n",
       "      <th>subject</th>\n",
       "      <th>date</th>\n",
       "    </tr>\n",
       "  </thead>\n",
       "  <tbody>\n",
       "    <tr>\n",
       "      <th>0</th>\n",
       "      <td>Donald Trump Sends Out Embarrassing New Year’...</td>\n",
       "      <td>Donald Trump just couldn t wish all Americans ...</td>\n",
       "      <td>News</td>\n",
       "      <td>December 31, 2017</td>\n",
       "    </tr>\n",
       "    <tr>\n",
       "      <th>1</th>\n",
       "      <td>Drunk Bragging Trump Staffer Started Russian ...</td>\n",
       "      <td>House Intelligence Committee Chairman Devin Nu...</td>\n",
       "      <td>News</td>\n",
       "      <td>December 31, 2017</td>\n",
       "    </tr>\n",
       "    <tr>\n",
       "      <th>2</th>\n",
       "      <td>Sheriff David Clarke Becomes An Internet Joke...</td>\n",
       "      <td>On Friday, it was revealed that former Milwauk...</td>\n",
       "      <td>News</td>\n",
       "      <td>December 30, 2017</td>\n",
       "    </tr>\n",
       "  </tbody>\n",
       "</table>\n",
       "</div>"
      ],
      "text/plain": [
       "                                               title  \\\n",
       "0   Donald Trump Sends Out Embarrassing New Year’...   \n",
       "1   Drunk Bragging Trump Staffer Started Russian ...   \n",
       "2   Sheriff David Clarke Becomes An Internet Joke...   \n",
       "\n",
       "                                                text subject  \\\n",
       "0  Donald Trump just couldn t wish all Americans ...    News   \n",
       "1  House Intelligence Committee Chairman Devin Nu...    News   \n",
       "2  On Friday, it was revealed that former Milwauk...    News   \n",
       "\n",
       "                date  \n",
       "0  December 31, 2017  \n",
       "1  December 31, 2017  \n",
       "2  December 30, 2017  "
      ]
     },
     "metadata": {},
     "output_type": "display_data"
    },
    {
     "name": "stdout",
     "output_type": "stream",
     "text": [
      "real news\n"
     ]
    },
    {
     "data": {
      "text/html": [
       "<div>\n",
       "<style scoped>\n",
       "    .dataframe tbody tr th:only-of-type {\n",
       "        vertical-align: middle;\n",
       "    }\n",
       "\n",
       "    .dataframe tbody tr th {\n",
       "        vertical-align: top;\n",
       "    }\n",
       "\n",
       "    .dataframe thead th {\n",
       "        text-align: right;\n",
       "    }\n",
       "</style>\n",
       "<table border=\"1\" class=\"dataframe\">\n",
       "  <thead>\n",
       "    <tr style=\"text-align: right;\">\n",
       "      <th></th>\n",
       "      <th>title</th>\n",
       "      <th>text</th>\n",
       "      <th>subject</th>\n",
       "      <th>date</th>\n",
       "    </tr>\n",
       "  </thead>\n",
       "  <tbody>\n",
       "    <tr>\n",
       "      <th>0</th>\n",
       "      <td>As U.S. budget fight looms, Republicans flip t...</td>\n",
       "      <td>WASHINGTON (Reuters) - The head of a conservat...</td>\n",
       "      <td>politicsNews</td>\n",
       "      <td>December 31, 2017</td>\n",
       "    </tr>\n",
       "    <tr>\n",
       "      <th>1</th>\n",
       "      <td>U.S. military to accept transgender recruits o...</td>\n",
       "      <td>WASHINGTON (Reuters) - Transgender people will...</td>\n",
       "      <td>politicsNews</td>\n",
       "      <td>December 29, 2017</td>\n",
       "    </tr>\n",
       "    <tr>\n",
       "      <th>2</th>\n",
       "      <td>Senior U.S. Republican senator: 'Let Mr. Muell...</td>\n",
       "      <td>WASHINGTON (Reuters) - The special counsel inv...</td>\n",
       "      <td>politicsNews</td>\n",
       "      <td>December 31, 2017</td>\n",
       "    </tr>\n",
       "  </tbody>\n",
       "</table>\n",
       "</div>"
      ],
      "text/plain": [
       "                                               title  \\\n",
       "0  As U.S. budget fight looms, Republicans flip t...   \n",
       "1  U.S. military to accept transgender recruits o...   \n",
       "2  Senior U.S. Republican senator: 'Let Mr. Muell...   \n",
       "\n",
       "                                                text       subject  \\\n",
       "0  WASHINGTON (Reuters) - The head of a conservat...  politicsNews   \n",
       "1  WASHINGTON (Reuters) - Transgender people will...  politicsNews   \n",
       "2  WASHINGTON (Reuters) - The special counsel inv...  politicsNews   \n",
       "\n",
       "                 date  \n",
       "0  December 31, 2017   \n",
       "1  December 29, 2017   \n",
       "2  December 31, 2017   "
      ]
     },
     "execution_count": 42,
     "metadata": {},
     "output_type": "execute_result"
    }
   ],
   "source": [
    "print(\"fake news\")\n",
    "dp(fdf.head(3))\n",
    "\n",
    "print(\"real news\")\n",
    "tdf.head(3)"
   ]
  },
  {
   "cell_type": "markdown",
   "metadata": {},
   "source": [
    "Combine fake news and real news into one dataframe for easy processing\n",
    "\n",
    "> Label fake news as 1, real news as 0"
   ]
  },
  {
   "cell_type": "code",
   "execution_count": 43,
   "metadata": {},
   "outputs": [
    {
     "data": {
      "text/plain": [
       "(44898, 5)"
      ]
     },
     "execution_count": 43,
     "metadata": {},
     "output_type": "execute_result"
    }
   ],
   "source": [
    "fdf[\"label\"] = 1\n",
    "tdf[\"label\"] = 0\n",
    "\n",
    "org_df = pd.concat([fdf, tdf])\n",
    "df = pd.concat([fdf, tdf])\n",
    "df = df.reset_index(drop=True)\n",
    "df.shape"
   ]
  },
  {
   "cell_type": "markdown",
   "metadata": {},
   "source": [
    "### Clean Data"
   ]
  },
  {
   "cell_type": "markdown",
   "metadata": {},
   "source": [
    "#### 1. Null and Duplication Detection"
   ]
  },
  {
   "cell_type": "markdown",
   "metadata": {},
   "source": [
    "- Null detection"
   ]
  },
  {
   "cell_type": "code",
   "execution_count": 44,
   "metadata": {},
   "outputs": [
    {
     "data": {
      "text/plain": [
       "title      0\n",
       "text       0\n",
       "subject    0\n",
       "date       0\n",
       "label      0\n",
       "dtype: int64"
      ]
     },
     "execution_count": 44,
     "metadata": {},
     "output_type": "execute_result"
    }
   ],
   "source": [
    "df.isnull().sum()"
   ]
  },
  {
   "cell_type": "markdown",
   "metadata": {},
   "source": [
    "- Duplication detection"
   ]
  },
  {
   "cell_type": "code",
   "execution_count": 45,
   "metadata": {},
   "outputs": [
    {
     "data": {
      "text/plain": [
       "209"
      ]
     },
     "execution_count": 45,
     "metadata": {},
     "output_type": "execute_result"
    }
   ],
   "source": [
    "df.duplicated().sum()"
   ]
  },
  {
   "cell_type": "markdown",
   "metadata": {},
   "source": [
    "> Drop duplications"
   ]
  },
  {
   "cell_type": "code",
   "execution_count": 46,
   "metadata": {},
   "outputs": [],
   "source": [
    "df = df.drop_duplicates()\n",
    "assert df.shape == (44689, 5), \"Failed to drop duplicates\""
   ]
  },
  {
   "cell_type": "markdown",
   "metadata": {},
   "source": [
    "#### 2.Data Type Conversion\n",
    "\n",
    "- convert date column to datetime\n",
    "- convert subject column to category"
   ]
  },
  {
   "cell_type": "markdown",
   "metadata": {},
   "source": [
    "##### 2.1 Format date column"
   ]
  },
  {
   "cell_type": "code",
   "execution_count": 47,
   "metadata": {},
   "outputs": [],
   "source": [
    "def convert_date(\n",
    "    date_to_convert, date_format_ls=[\"%B %d, %Y\", \"%d-%b-%y\", \"%b %d, %Y\", \"%Y-%m-%d\"]\n",
    "):\n",
    "\n",
    "    date_to_convert = date_to_convert.strip()\n",
    "    for i in date_format_ls:\n",
    "        try:\n",
    "            return pd.to_datetime(date_to_convert, format=i)\n",
    "        except:\n",
    "            continue\n",
    "    return np.nan"
   ]
  },
  {
   "cell_type": "code",
   "execution_count": null,
   "metadata": {},
   "outputs": [
    {
     "name": "stdout",
     "output_type": "stream",
     "text": [
      "Dates failed to convert: \n"
     ]
    },
    {
     "data": {
      "text/html": [
       "<div>\n",
       "<style scoped>\n",
       "    .dataframe tbody tr th:only-of-type {\n",
       "        vertical-align: middle;\n",
       "    }\n",
       "\n",
       "    .dataframe tbody tr th {\n",
       "        vertical-align: top;\n",
       "    }\n",
       "\n",
       "    .dataframe thead th {\n",
       "        text-align: right;\n",
       "    }\n",
       "</style>\n",
       "<table border=\"1\" class=\"dataframe\">\n",
       "  <thead>\n",
       "    <tr style=\"text-align: right;\">\n",
       "      <th></th>\n",
       "      <th>title</th>\n",
       "      <th>text</th>\n",
       "      <th>subject</th>\n",
       "      <th>date</th>\n",
       "      <th>label</th>\n",
       "    </tr>\n",
       "  </thead>\n",
       "  <tbody>\n",
       "    <tr>\n",
       "      <th>9358</th>\n",
       "      <td>https://100percentfedup.com/served-roy-moore-v...</td>\n",
       "      <td>https://100percentfedup.com/served-roy-moore-v...</td>\n",
       "      <td>politics</td>\n",
       "      <td>https://100percentfedup.com/served-roy-moore-v...</td>\n",
       "      <td>1</td>\n",
       "    </tr>\n",
       "    <tr>\n",
       "      <th>15507</th>\n",
       "      <td>https://100percentfedup.com/video-hillary-aske...</td>\n",
       "      <td>https://100percentfedup.com/video-hillary-aske...</td>\n",
       "      <td>politics</td>\n",
       "      <td>https://100percentfedup.com/video-hillary-aske...</td>\n",
       "      <td>1</td>\n",
       "    </tr>\n",
       "    <tr>\n",
       "      <th>15508</th>\n",
       "      <td>https://100percentfedup.com/12-yr-old-black-co...</td>\n",
       "      <td>https://100percentfedup.com/12-yr-old-black-co...</td>\n",
       "      <td>politics</td>\n",
       "      <td>https://100percentfedup.com/12-yr-old-black-co...</td>\n",
       "      <td>1</td>\n",
       "    </tr>\n",
       "    <tr>\n",
       "      <th>15839</th>\n",
       "      <td>https://fedup.wpengine.com/wp-content/uploads/...</td>\n",
       "      <td>https://fedup.wpengine.com/wp-content/uploads/...</td>\n",
       "      <td>politics</td>\n",
       "      <td>https://fedup.wpengine.com/wp-content/uploads/...</td>\n",
       "      <td>1</td>\n",
       "    </tr>\n",
       "    <tr>\n",
       "      <th>15840</th>\n",
       "      <td>https://fedup.wpengine.com/wp-content/uploads/...</td>\n",
       "      <td>https://fedup.wpengine.com/wp-content/uploads/...</td>\n",
       "      <td>politics</td>\n",
       "      <td>https://fedup.wpengine.com/wp-content/uploads/...</td>\n",
       "      <td>1</td>\n",
       "    </tr>\n",
       "    <tr>\n",
       "      <th>17432</th>\n",
       "      <td>https://fedup.wpengine.com/wp-content/uploads/...</td>\n",
       "      <td>https://fedup.wpengine.com/wp-content/uploads/...</td>\n",
       "      <td>Government News</td>\n",
       "      <td>https://fedup.wpengine.com/wp-content/uploads/...</td>\n",
       "      <td>1</td>\n",
       "    </tr>\n",
       "    <tr>\n",
       "      <th>17433</th>\n",
       "      <td>https://fedup.wpengine.com/wp-content/uploads/...</td>\n",
       "      <td>https://fedup.wpengine.com/wp-content/uploads/...</td>\n",
       "      <td>Government News</td>\n",
       "      <td>https://fedup.wpengine.com/wp-content/uploads/...</td>\n",
       "      <td>1</td>\n",
       "    </tr>\n",
       "    <tr>\n",
       "      <th>18933</th>\n",
       "      <td>Homepage</td>\n",
       "      <td>[vc_row][vc_column width= 1/1 ][td_block_trend...</td>\n",
       "      <td>left-news</td>\n",
       "      <td>MSNBC HOST Rudely Assumes Steel Worker Would N...</td>\n",
       "      <td>1</td>\n",
       "    </tr>\n",
       "    <tr>\n",
       "      <th>21869</th>\n",
       "      <td>https://fedup.wpengine.com/wp-content/uploads/...</td>\n",
       "      <td>https://fedup.wpengine.com/wp-content/uploads/...</td>\n",
       "      <td>left-news</td>\n",
       "      <td>https://fedup.wpengine.com/wp-content/uploads/...</td>\n",
       "      <td>1</td>\n",
       "    </tr>\n",
       "    <tr>\n",
       "      <th>21870</th>\n",
       "      <td>https://fedup.wpengine.com/wp-content/uploads/...</td>\n",
       "      <td>https://fedup.wpengine.com/wp-content/uploads/...</td>\n",
       "      <td>left-news</td>\n",
       "      <td>https://fedup.wpengine.com/wp-content/uploads/...</td>\n",
       "      <td>1</td>\n",
       "    </tr>\n",
       "  </tbody>\n",
       "</table>\n",
       "</div>"
      ],
      "text/plain": [
       "                                                   title  \\\n",
       "9358   https://100percentfedup.com/served-roy-moore-v...   \n",
       "15507  https://100percentfedup.com/video-hillary-aske...   \n",
       "15508  https://100percentfedup.com/12-yr-old-black-co...   \n",
       "15839  https://fedup.wpengine.com/wp-content/uploads/...   \n",
       "15840  https://fedup.wpengine.com/wp-content/uploads/...   \n",
       "17432  https://fedup.wpengine.com/wp-content/uploads/...   \n",
       "17433  https://fedup.wpengine.com/wp-content/uploads/...   \n",
       "18933                                           Homepage   \n",
       "21869  https://fedup.wpengine.com/wp-content/uploads/...   \n",
       "21870  https://fedup.wpengine.com/wp-content/uploads/...   \n",
       "\n",
       "                                                    text          subject  \\\n",
       "9358   https://100percentfedup.com/served-roy-moore-v...         politics   \n",
       "15507  https://100percentfedup.com/video-hillary-aske...         politics   \n",
       "15508  https://100percentfedup.com/12-yr-old-black-co...         politics   \n",
       "15839  https://fedup.wpengine.com/wp-content/uploads/...         politics   \n",
       "15840  https://fedup.wpengine.com/wp-content/uploads/...         politics   \n",
       "17432  https://fedup.wpengine.com/wp-content/uploads/...  Government News   \n",
       "17433  https://fedup.wpengine.com/wp-content/uploads/...  Government News   \n",
       "18933  [vc_row][vc_column width= 1/1 ][td_block_trend...        left-news   \n",
       "21869  https://fedup.wpengine.com/wp-content/uploads/...        left-news   \n",
       "21870  https://fedup.wpengine.com/wp-content/uploads/...        left-news   \n",
       "\n",
       "                                                    date  label  \n",
       "9358   https://100percentfedup.com/served-roy-moore-v...      1  \n",
       "15507  https://100percentfedup.com/video-hillary-aske...      1  \n",
       "15508  https://100percentfedup.com/12-yr-old-black-co...      1  \n",
       "15839  https://fedup.wpengine.com/wp-content/uploads/...      1  \n",
       "15840  https://fedup.wpengine.com/wp-content/uploads/...      1  \n",
       "17432  https://fedup.wpengine.com/wp-content/uploads/...      1  \n",
       "17433  https://fedup.wpengine.com/wp-content/uploads/...      1  \n",
       "18933  MSNBC HOST Rudely Assumes Steel Worker Would N...      1  \n",
       "21869  https://fedup.wpengine.com/wp-content/uploads/...      1  \n",
       "21870  https://fedup.wpengine.com/wp-content/uploads/...      1  "
      ]
     },
     "execution_count": 48,
     "metadata": {},
     "output_type": "execute_result"
    }
   ],
   "source": [
    "converted_date = df[\"date\"].apply(lambda i: convert_date(i))\n",
    "failed_to_convert_id = converted_date[converted_date.isna()].index.tolist()\n",
    "print(\"Dates failed to convert: \")\n",
    "df.loc[failed_to_convert_id, :]"
   ]
  },
  {
   "cell_type": "markdown",
   "metadata": {},
   "source": [
    "> These rows contain only URLs for most columns, drop them."
   ]
  },
  {
   "cell_type": "code",
   "execution_count": null,
   "metadata": {},
   "outputs": [],
   "source": [
    "df = df.loc[~df.index.isin(failed_to_convert_id)]\n",
    "\n",
    "assert df.shape == (\n",
    "    44679,\n",
    "    5,\n",
    "), \"Failed to remove rows with date columns filled with URLs in fake news.\"\n",
    "\n",
    "converted_and_cleaned_date = df[\"date\"].apply(lambda i: convert_date(i))\n",
    "\n",
    "df[\"date\"] = converted_and_cleaned_date"
   ]
  },
  {
   "cell_type": "markdown",
   "metadata": {},
   "source": [
    "##### 2.2 Format subject column"
   ]
  },
  {
   "cell_type": "markdown",
   "metadata": {},
   "source": [
    "Check subject categories of fake news and real news respectively:"
   ]
  },
  {
   "cell_type": "markdown",
   "metadata": {},
   "source": [
    "- fake news:"
   ]
  },
  {
   "cell_type": "code",
   "execution_count": 50,
   "metadata": {},
   "outputs": [
    {
     "data": {
      "text/plain": [
       "subject\n",
       "News               9050\n",
       "politics           6833\n",
       "left-news          4456\n",
       "Government News    1568\n",
       "US_News             783\n",
       "Middle-east         778\n",
       "Name: count, dtype: int64"
      ]
     },
     "execution_count": 50,
     "metadata": {},
     "output_type": "execute_result"
    }
   ],
   "source": [
    "df.query(\"label == 1\").subject.value_counts()"
   ]
  },
  {
   "cell_type": "code",
   "execution_count": 51,
   "metadata": {},
   "outputs": [
    {
     "data": {
      "text/plain": [
       "subject\n",
       "politicsNews    11220\n",
       "worldnews        9991\n",
       "Name: count, dtype: int64"
      ]
     },
     "execution_count": 51,
     "metadata": {},
     "output_type": "execute_result"
    }
   ],
   "source": [
    "df.query(\"label == 0\").subject.value_counts()"
   ]
  },
  {
   "cell_type": "markdown",
   "metadata": {},
   "source": [
    "> Inconsistent category between fake news and real news."
   ]
  },
  {
   "cell_type": "markdown",
   "metadata": {},
   "source": [
    "The category of `subject` column is not consistent between fake news and real news.\n",
    "\n",
    "- In __real news__, there's only 2 categories: politicsNews and worldnews, and the \\\n",
    "distribution of each are approximately 50%.\n",
    "\n",
    "- In __fake news__, there's 6 categories, while `it is not easy to catagorize them into` \\\n",
    "`the 2 categories of real news`. \n",
    "\n",
    "Using subject as a feature for modeling would lead to `data leakage` due to the \\\n",
    "inconsistency between fake and real news.\n",
    "\n",
    "> Subject would only be explored in `eda`, but would not be used as a feature in modeling."
   ]
  },
  {
   "cell_type": "markdown",
   "metadata": {},
   "source": [
    "#### 3. Remove rows with extremely short texts\n",
    "\n",
    "\n",
    "Short texts are very likely to be either dirty data we don't want to use for \\\n",
    "modeling or spoilers for fake news."
   ]
  },
  {
   "cell_type": "code",
   "execution_count": 52,
   "metadata": {},
   "outputs": [],
   "source": [
    "text_len_series = df[\"text\"].apply(lambda i: len(i.split(\" \")))\n",
    "title_len_series = df[\"title\"].apply(lambda i: len(i.split(\" \")))\n",
    "df[\"text_len\"] = text_len_series\n",
    "df[\"title_len\"] = title_len_series"
   ]
  },
  {
   "cell_type": "markdown",
   "metadata": {},
   "source": [
    "stats of text and title length:"
   ]
  },
  {
   "cell_type": "code",
   "execution_count": 53,
   "metadata": {},
   "outputs": [
    {
     "data": {
      "text/plain": [
       "count    44679.000000\n",
       "mean       415.525750\n",
       "std        361.957763\n",
       "min          1.000000\n",
       "25%        208.000000\n",
       "50%        371.000000\n",
       "75%        525.000000\n",
       "max       8436.000000\n",
       "Name: text, dtype: float64"
      ]
     },
     "metadata": {},
     "output_type": "display_data"
    },
    {
     "data": {
      "text/plain": [
       "count    44679.000000\n",
       "mean        12.670583\n",
       "std          4.171949\n",
       "min          3.000000\n",
       "25%         10.000000\n",
       "50%         12.000000\n",
       "75%         15.000000\n",
       "max         45.000000\n",
       "Name: title, dtype: float64"
      ]
     },
     "metadata": {},
     "output_type": "display_data"
    }
   ],
   "source": [
    "dp(text_len_series.describe())\n",
    "dp(title_len_series.describe())"
   ]
  },
  {
   "cell_type": "code",
   "execution_count": 54,
   "metadata": {},
   "outputs": [
    {
     "data": {
      "text/html": [
       "<div>\n",
       "<style scoped>\n",
       "    .dataframe tbody tr th:only-of-type {\n",
       "        vertical-align: middle;\n",
       "    }\n",
       "\n",
       "    .dataframe tbody tr th {\n",
       "        vertical-align: top;\n",
       "    }\n",
       "\n",
       "    .dataframe thead th {\n",
       "        text-align: right;\n",
       "    }\n",
       "</style>\n",
       "<table border=\"1\" class=\"dataframe\">\n",
       "  <thead>\n",
       "    <tr style=\"text-align: right;\">\n",
       "      <th></th>\n",
       "      <th>title</th>\n",
       "      <th>text</th>\n",
       "      <th>subject</th>\n",
       "      <th>date</th>\n",
       "      <th>label</th>\n",
       "      <th>text_len</th>\n",
       "      <th>title_len</th>\n",
       "    </tr>\n",
       "  </thead>\n",
       "  <tbody>\n",
       "    <tr>\n",
       "      <th>10923</th>\n",
       "      <td>TAKE OUR POLL: Who Do You Think President Trum...</td>\n",
       "      <td></td>\n",
       "      <td>politics</td>\n",
       "      <td>2017-05-10</td>\n",
       "      <td>1</td>\n",
       "      <td>2</td>\n",
       "      <td>15</td>\n",
       "    </tr>\n",
       "    <tr>\n",
       "      <th>11041</th>\n",
       "      <td>Joe Scarborough BERATES Mika Brzezinski Over “...</td>\n",
       "      <td></td>\n",
       "      <td>politics</td>\n",
       "      <td>2017-04-26</td>\n",
       "      <td>1</td>\n",
       "      <td>2</td>\n",
       "      <td>19</td>\n",
       "    </tr>\n",
       "    <tr>\n",
       "      <th>11117</th>\n",
       "      <td>MY FAVORITE EXCUSES…Featuring Hillary Rotten C...</td>\n",
       "      <td>Enjoy:</td>\n",
       "      <td>politics</td>\n",
       "      <td>2017-04-17</td>\n",
       "      <td>1</td>\n",
       "      <td>1</td>\n",
       "      <td>7</td>\n",
       "    </tr>\n",
       "    <tr>\n",
       "      <th>11190</th>\n",
       "      <td>WATCH TUCKER CARLSON Scorch Sanctuary City May...</td>\n",
       "      <td></td>\n",
       "      <td>politics</td>\n",
       "      <td>2017-04-06</td>\n",
       "      <td>1</td>\n",
       "      <td>2</td>\n",
       "      <td>13</td>\n",
       "    </tr>\n",
       "    <tr>\n",
       "      <th>11225</th>\n",
       "      <td>MAYOR OF SANCTUARY CITY: Trump Trying To Make ...</td>\n",
       "      <td></td>\n",
       "      <td>politics</td>\n",
       "      <td>2017-04-02</td>\n",
       "      <td>1</td>\n",
       "      <td>2</td>\n",
       "      <td>13</td>\n",
       "    </tr>\n",
       "    <tr>\n",
       "      <th>...</th>\n",
       "      <td>...</td>\n",
       "      <td>...</td>\n",
       "      <td>...</td>\n",
       "      <td>...</td>\n",
       "      <td>...</td>\n",
       "      <td>...</td>\n",
       "      <td>...</td>\n",
       "    </tr>\n",
       "    <tr>\n",
       "      <th>21826</th>\n",
       "      <td>FULL VIDEO: THE BLOCKBUSTER INVESTIGATION INTO...</td>\n",
       "      <td></td>\n",
       "      <td>left-news</td>\n",
       "      <td>2015-04-25</td>\n",
       "      <td>1</td>\n",
       "      <td>2</td>\n",
       "      <td>8</td>\n",
       "    </tr>\n",
       "    <tr>\n",
       "      <th>21827</th>\n",
       "      <td>(VIDEO) HILLARY CLINTON: RELIGIOUS BELIEFS MUS...</td>\n",
       "      <td></td>\n",
       "      <td>left-news</td>\n",
       "      <td>2015-04-25</td>\n",
       "      <td>1</td>\n",
       "      <td>2</td>\n",
       "      <td>11</td>\n",
       "    </tr>\n",
       "    <tr>\n",
       "      <th>21857</th>\n",
       "      <td>(VIDEO)ICE PROTECTING OBAMA: WON’T RELEASE NAM...</td>\n",
       "      <td></td>\n",
       "      <td>left-news</td>\n",
       "      <td>2015-04-14</td>\n",
       "      <td>1</td>\n",
       "      <td>2</td>\n",
       "      <td>12</td>\n",
       "    </tr>\n",
       "    <tr>\n",
       "      <th>21873</th>\n",
       "      <td>(VIDEO) HYSTERICAL SNL TAKE ON HILLARY’S ANNOU...</td>\n",
       "      <td></td>\n",
       "      <td>left-news</td>\n",
       "      <td>2015-04-12</td>\n",
       "      <td>1</td>\n",
       "      <td>2</td>\n",
       "      <td>14</td>\n",
       "    </tr>\n",
       "    <tr>\n",
       "      <th>32451</th>\n",
       "      <td>Graphic: Supreme Court roundup</td>\n",
       "      <td></td>\n",
       "      <td>politicsNews</td>\n",
       "      <td>2016-06-16</td>\n",
       "      <td>0</td>\n",
       "      <td>2</td>\n",
       "      <td>4</td>\n",
       "    </tr>\n",
       "  </tbody>\n",
       "</table>\n",
       "<p>763 rows × 7 columns</p>\n",
       "</div>"
      ],
      "text/plain": [
       "                                                   title    text  \\\n",
       "10923  TAKE OUR POLL: Who Do You Think President Trum...           \n",
       "11041  Joe Scarborough BERATES Mika Brzezinski Over “...           \n",
       "11117  MY FAVORITE EXCUSES…Featuring Hillary Rotten C...  Enjoy:   \n",
       "11190  WATCH TUCKER CARLSON Scorch Sanctuary City May...           \n",
       "11225  MAYOR OF SANCTUARY CITY: Trump Trying To Make ...           \n",
       "...                                                  ...     ...   \n",
       "21826  FULL VIDEO: THE BLOCKBUSTER INVESTIGATION INTO...           \n",
       "21827  (VIDEO) HILLARY CLINTON: RELIGIOUS BELIEFS MUS...           \n",
       "21857  (VIDEO)ICE PROTECTING OBAMA: WON’T RELEASE NAM...           \n",
       "21873  (VIDEO) HYSTERICAL SNL TAKE ON HILLARY’S ANNOU...           \n",
       "32451                     Graphic: Supreme Court roundup           \n",
       "\n",
       "            subject       date  label  text_len  title_len  \n",
       "10923      politics 2017-05-10      1         2         15  \n",
       "11041      politics 2017-04-26      1         2         19  \n",
       "11117      politics 2017-04-17      1         1          7  \n",
       "11190      politics 2017-04-06      1         2         13  \n",
       "11225      politics 2017-04-02      1         2         13  \n",
       "...             ...        ...    ...       ...        ...  \n",
       "21826     left-news 2015-04-25      1         2          8  \n",
       "21827     left-news 2015-04-25      1         2         11  \n",
       "21857     left-news 2015-04-14      1         2         12  \n",
       "21873     left-news 2015-04-12      1         2         14  \n",
       "32451  politicsNews 2016-06-16      0         2          4  \n",
       "\n",
       "[763 rows x 7 columns]"
      ]
     },
     "metadata": {},
     "output_type": "display_data"
    },
    {
     "name": "stdout",
     "output_type": "stream",
     "text": [
      "Texts shorter than 5 words in fake and real news:\n"
     ]
    },
    {
     "data": {
      "text/plain": [
       "label\n",
       "1    762\n",
       "0      1\n",
       "Name: count, dtype: int64"
      ]
     },
     "execution_count": 54,
     "metadata": {},
     "output_type": "execute_result"
    }
   ],
   "source": [
    "dp(df.query(\"text_len < 5\"))\n",
    "print(\"Texts shorter than 5 words in fake and real news:\")\n",
    "df.query(\"text_len < 5\").label.value_counts()"
   ]
  },
  {
   "cell_type": "markdown",
   "metadata": {},
   "source": [
    "> There's some empty text or single word in text column, almost all are fake news.\n",
    "\n",
    "> Here we'd drop rows with text length shorter than 30."
   ]
  },
  {
   "cell_type": "code",
   "execution_count": 55,
   "metadata": {},
   "outputs": [
    {
     "name": "stdout",
     "output_type": "stream",
     "text": [
      "Texts shorter than 30 words in fake and real news:\n"
     ]
    },
    {
     "data": {
      "text/plain": [
       "label\n",
       "1    1443\n",
       "0      16\n",
       "Name: count, dtype: int64"
      ]
     },
     "execution_count": 55,
     "metadata": {},
     "output_type": "execute_result"
    }
   ],
   "source": [
    "print(\"Texts shorter than 30 words in fake and real news:\")\n",
    "df.query(\"text_len < 30\").label.value_counts()"
   ]
  },
  {
   "cell_type": "markdown",
   "metadata": {},
   "source": [
    "> There's approximately 90 times more texts shorter than 30 words in fake news \\\n",
    "than in real news."
   ]
  },
  {
   "cell_type": "code",
   "execution_count": 56,
   "metadata": {},
   "outputs": [],
   "source": [
    "df = df.query(\"text_len > 30\")\n",
    "assert df.shape[0] == 43194, \"Failed to remove texts shorter than 30 words\""
   ]
  },
  {
   "cell_type": "markdown",
   "metadata": {},
   "source": [
    "#### 4. Text and Title Cleaning\n",
    "\n",
    "##### 4.1 Text Cleaning\n",
    "\n",
    "Apart from general text cleaning, we observe some patterns which can cause data \\\n",
    "leakage in respective news groups such as real news starting with `Reuters` or \\\n",
    "some fake news includes `comments from twitter` and many others.\n",
    "\n",
    "__general cleaning__\n",
    "- preserve only domain name in URLs\n",
    "- remove email addresses\n",
    "- remove special characters and numbers while preserving the important ones\n",
    "- replace multiple newlines with single newline\n",
    "\n",
    "__project specific cleaning__\n",
    "- replace extenal sources links with marker. \\\n",
    "eg: pic.12ab.twitter.com => [TWITTER IMAGE CONTENT]\n",
    "- remove code injections\n",
    "- remove broadcast time of some news\n",
    "- remove non-ascii\n",
    "- miscellaneous leftover pattern removal\n",
    "- remove obvious spoliers texts such as:\n",
    "    - Reuters + location in real news\n",
    "    - 21st Century Wire in fake news\n",
    "    - READ MORE .... @21WIRE.TV in fake news\n",
    "- remove comments in news (ones with obvious timestamp from twitter)\n",
    "- remove rows which are just advertisement for podcast but contains no news\n",
    "- remove image source such as: via Getty Image, Featured image is a screenshot\n",
    "- remove external sources markers. (explained below)\n",
    "\n",
    "🔴 Note: I decided to removal external content markers because fake news \\\n",
    "contains significantly much more external content links than real news, although \\\n",
    "replace links with markers make the text more tidy, the markers are big spoilers \\\n",
    "for our classificaion task. I would like to model to recognize patterns in words \\\n",
    "rather than relying on these markers."
   ]
  },
  {
   "cell_type": "code",
   "execution_count": null,
   "metadata": {},
   "outputs": [],
   "source": [
    "# This takes about 30 minutes to run on 4 cores CPU\n",
    "# parallel processing with joblib\n",
    "cleaned_text = Parallel(n_jobs=-1)(delayed(process_row)(i) for i in df.text)"
   ]
  },
  {
   "cell_type": "code",
   "execution_count": 72,
   "metadata": {},
   "outputs": [],
   "source": [
    "df[\"text\"] = cleaned_text\n",
    "df[\"text_len\"] = df[\"text\"].apply(lambda i: len(i.split(\" \")))"
   ]
  },
  {
   "cell_type": "markdown",
   "metadata": {},
   "source": [
    "##### 4.2 Title Cleaning\n",
    "\n",
    "Some patterns that might lead to data leakage in title such as: \\\n",
    "`WATCH, REPORT, [VIDEO], #, Factbox, BREAKING:, BREAKING NEWS:, (VIDEO)`, \\\n",
    "`Exclusive, (TWEET)` ..."
   ]
  },
  {
   "cell_type": "code",
   "execution_count": 73,
   "metadata": {},
   "outputs": [],
   "source": [
    "cleaned_title = df.title.apply(lambda i: news_title_clean(i)).tolist()\n",
    "df[\"title\"] = cleaned_title\n",
    "df[\"title_len\"] = df[\"title\"].apply(lambda i: len(i.split(\" \")))"
   ]
  },
  {
   "cell_type": "markdown",
   "metadata": {},
   "source": [
    "Check if there's specific patterns in news subject."
   ]
  },
  {
   "cell_type": "code",
   "execution_count": 74,
   "metadata": {},
   "outputs": [
    {
     "name": "stdout",
     "output_type": "stream",
     "text": [
      "News\n"
     ]
    },
    {
     "data": {
      "text/plain": [
       "['Donald Trump Sends Out Embarrassing New Year’s Eve Message; This is Disturbing',\n",
       " 'Drunk Bragging Trump Staffer Started Russian Collusion Investigation',\n",
       " 'Sheriff David Clarke Becomes An Internet Joke For Threatening To Poke People ‘In The Eye’']"
      ]
     },
     "metadata": {},
     "output_type": "display_data"
    },
    {
     "name": "stdout",
     "output_type": "stream",
     "text": [
      "politics\n"
     ]
    },
    {
     "data": {
      "text/plain": [
       "['Democrat Senator Warns Mueller Not To Release Findings On Russia Before 2018 Midterms',\n",
       " 'MSNBC ANCHOR Flabbergasted at What Texas Teachers Do to Protect Their Students',\n",
       " 'SNOWFLAKES ASKED Communist Party Platform or Democratic Party Platform?']"
      ]
     },
     "metadata": {},
     "output_type": "display_data"
    },
    {
     "name": "stdout",
     "output_type": "stream",
     "text": [
      "Government News\n"
     ]
    },
    {
     "data": {
      "text/plain": [
       "['TOP FIVE Food Stamp Fraud Takedowns of 2017…Do You See The Common Thread?',\n",
       " 'HOUSE INTEL Slaps Subpoenas on McCain Institute Associate Involved in “Trump Dirty Dossier” Sources',\n",
       " 'PRICELESS! WATCH MSNBC HOST’S Shocked Response When GOP Lawmaker Calls For “Purge” of “Deep State” FBI and DOJ']"
      ]
     },
     "metadata": {},
     "output_type": "display_data"
    },
    {
     "name": "stdout",
     "output_type": "stream",
     "text": [
      "left-news\n"
     ]
    },
    {
     "data": {
      "text/plain": [
       "['BARBRA STREISAND Gives Up On Dream Of Impeaching Trump Over Fake Trump-Russian Collusion…Tweets HILARIOUS New Reason Trump Should Be Impeached',\n",
       " 'SENATOR LINDSEY GRAHAM DROPS BOMBSHELL… FINALLY Confirms The Fake Russian Dossier Was Used To Obtain FISA Warrant To Spy On Trump',\n",
       " '“CONSERVATIVE GAY GUY” BLASTS Pence’s Aspen Neighbors For Hanging “Make America Gay Again Banner” In Front Of House']"
      ]
     },
     "metadata": {},
     "output_type": "display_data"
    },
    {
     "name": "stdout",
     "output_type": "stream",
     "text": [
      "US_News\n"
     ]
    },
    {
     "data": {
      "text/plain": [
       "['YEAR IN REVIEW, 2017 Top Ten Conspiracies',\n",
       " '‘Classified’ Emails from Hillary Clinton and Huma Abedin found on Anthony Weiner’s Laptop',\n",
       " 'How Trump is Accelerating the Decline of US Global Influence']"
      ]
     },
     "metadata": {},
     "output_type": "display_data"
    },
    {
     "name": "stdout",
     "output_type": "stream",
     "text": [
      "Middle-east\n"
     ]
    },
    {
     "data": {
      "text/plain": [
       "['YEAR IN REVIEW, 2017 Top Ten Conspiracies',\n",
       " '‘Classified’ Emails from Hillary Clinton and Huma Abedin found on Anthony Weiner’s Laptop',\n",
       " 'How Trump is Accelerating the Decline of US Global Influence']"
      ]
     },
     "metadata": {},
     "output_type": "display_data"
    },
    {
     "name": "stdout",
     "output_type": "stream",
     "text": [
      "politicsNews\n"
     ]
    },
    {
     "data": {
      "text/plain": [
       "['As U.S. budget fight looms, Republicans flip their fiscal script',\n",
       " 'U.S. military to accept transgender recruits on Monday, Pentagon',\n",
       " \"Senior U.S. Republican senator, 'Let Mr. Mueller do his job'\"]"
      ]
     },
     "metadata": {},
     "output_type": "display_data"
    },
    {
     "name": "stdout",
     "output_type": "stream",
     "text": [
      "worldnews\n"
     ]
    },
    {
     "data": {
      "text/plain": [
       "['Reuters journalists in Myanmar appear in court, remanded for another 14 days',\n",
       " 'Kuwait says GCC to keep operating despite Qatar crisis',\n",
       " 'Nigeria says U.S. agrees delayed $593 million fighter plane sale']"
      ]
     },
     "metadata": {},
     "output_type": "display_data"
    }
   ],
   "source": [
    "for i in df.subject.unique():\n",
    "    print(i)\n",
    "    dp(df.loc[df.subject == i].head(3).title.tolist())"
   ]
  },
  {
   "cell_type": "markdown",
   "metadata": {},
   "source": [
    "News titles in subject `politics, Government News, left-news, Middle-east` \\\n",
    "have the pattern of beginning with a couple of uppercase words. \n",
    "\n",
    "> This pattern is more likely to be specific to this dataset, and as it only \\\n",
    "appears in fake news subjects, we would `lowercase all the news titles` to avoid \\\n",
    "data leakage."
   ]
  },
  {
   "cell_type": "code",
   "execution_count": 75,
   "metadata": {},
   "outputs": [],
   "source": [
    "df[\"title\"] = df.title.apply(lambda i: i.lower())"
   ]
  },
  {
   "cell_type": "markdown",
   "metadata": {},
   "source": [
    "__Remove podcasts__\n",
    "\n",
    "News with podcast content are mainly used for advertisement, and does not contain \\\n",
    "news content are removed for this analysis."
   ]
  },
  {
   "cell_type": "code",
   "execution_count": 78,
   "metadata": {},
   "outputs": [],
   "source": [
    "df = df.query(\"text_len > 30\")\n",
    "# remove podcasts\n",
    "podcast_idx = df.query('text.str.contains(\"Episode #\")').index\n",
    "df = df.drop(podcast_idx)\n",
    "# assert df.shape[0] == 43048, \"Failed to remove podcast1\"\n",
    "\n",
    "podcast_idx2 = df.query(\n",
    "    'text.str.contains(\"Tune in to the Alternate Current Radio Network\")'\n",
    ").index\n",
    "df = df.drop(podcast_idx2)\n",
    "assert df.shape[0] == 42724, \"Failed to remove podcast2\""
   ]
  },
  {
   "cell_type": "markdown",
   "metadata": {},
   "source": [
    "__Text and Title Cleaning__\n",
    "\n",
    "Here, we focused on addressing dataset specific patterns which can cause data leakage \\\n",
    "due to their imbalanced frequency in fake versus real news. \\\n",
    "Additionally, we removed irrelevant data, such as advertisements for podcasts, \\\n",
    "that do not qualify as news.\n",
    "\n",
    "Fake news contain significantly more media and social media content than \\\n",
    "real news. To train the model to detect fake news based on semantics rather than \\\n",
    "relying on specific keywords, we removed links and placeholders related to media \\\n",
    "and social media content in fake news.\n",
    "\n",
    "However, the dataset labeling heavily depends on the source. For instance, a tweet \\\n",
    "from Trump might be labeled as real news when accompanied by a disclaimer from \\\n",
    "`Reuters`, but the same tweet could be labeled as fake news if provided by a different \\\n",
    "source, such as `WIRE21`. In such cases, we retained the source/agency name while \\\n",
    "removing clear labeling patterns.\n"
   ]
  },
  {
   "cell_type": "markdown",
   "metadata": {},
   "source": [
    "##### 4.3 Text Duplication Detection\n",
    "\n",
    "Some rows have duplicated texts, they were not detected by previous duplication \\\n",
    "detection because they have different subject or title. \n",
    "\n",
    "As text is going to be the main feature for modeling, drop rows with duplicated \\\n",
    "texts."
   ]
  },
  {
   "cell_type": "markdown",
   "metadata": {},
   "source": [
    "- text duplication for fake news"
   ]
  },
  {
   "cell_type": "code",
   "execution_count": 82,
   "metadata": {},
   "outputs": [
    {
     "name": "stdout",
     "output_type": "stream",
     "text": [
      "fake news duplicates count examples:\n"
     ]
    },
    {
     "data": {
      "text/html": [
       "<div>\n",
       "<style scoped>\n",
       "    .dataframe tbody tr th:only-of-type {\n",
       "        vertical-align: middle;\n",
       "    }\n",
       "\n",
       "    .dataframe tbody tr th {\n",
       "        vertical-align: top;\n",
       "    }\n",
       "\n",
       "    .dataframe thead th {\n",
       "        text-align: right;\n",
       "    }\n",
       "</style>\n",
       "<table border=\"1\" class=\"dataframe\">\n",
       "  <thead>\n",
       "    <tr style=\"text-align: right;\">\n",
       "      <th></th>\n",
       "      <th>title</th>\n",
       "      <th>text</th>\n",
       "      <th>subject</th>\n",
       "      <th>date</th>\n",
       "      <th>label</th>\n",
       "      <th>text_len</th>\n",
       "      <th>title_len</th>\n",
       "    </tr>\n",
       "  </thead>\n",
       "  <tbody>\n",
       "    <tr>\n",
       "      <th>22303</th>\n",
       "      <td>media tripwire? ping pong pizza conspiracy pro...</td>\n",
       "      <td>Funny how secrets travel. I d start to believe...</td>\n",
       "      <td>US_News</td>\n",
       "      <td>2016-12-28</td>\n",
       "      <td>1</td>\n",
       "      <td>8408</td>\n",
       "      <td>13</td>\n",
       "    </tr>\n",
       "    <tr>\n",
       "      <th>23086</th>\n",
       "      <td>media tripwire? ping pong pizza conspiracy pro...</td>\n",
       "      <td>Funny how secrets travel. I d start to believe...</td>\n",
       "      <td>Middle-east</td>\n",
       "      <td>2016-12-28</td>\n",
       "      <td>1</td>\n",
       "      <td>8408</td>\n",
       "      <td>13</td>\n",
       "    </tr>\n",
       "    <tr>\n",
       "      <th>22506</th>\n",
       "      <td>cult crimes, mass shootings &amp; media mind contr...</td>\n",
       "      <td>Shawn Helton mediaThe 1994 cult film Natural B...</td>\n",
       "      <td>US_News</td>\n",
       "      <td>2016-08-13</td>\n",
       "      <td>1</td>\n",
       "      <td>7431</td>\n",
       "      <td>12</td>\n",
       "    </tr>\n",
       "    <tr>\n",
       "      <th>23289</th>\n",
       "      <td>cult crimes, mass shootings &amp; media mind contr...</td>\n",
       "      <td>Shawn Helton mediaThe 1994 cult film Natural B...</td>\n",
       "      <td>Middle-east</td>\n",
       "      <td>2016-08-13</td>\n",
       "      <td>1</td>\n",
       "      <td>7431</td>\n",
       "      <td>12</td>\n",
       "    </tr>\n",
       "  </tbody>\n",
       "</table>\n",
       "</div>"
      ],
      "text/plain": [
       "                                                   title  \\\n",
       "22303  media tripwire? ping pong pizza conspiracy pro...   \n",
       "23086  media tripwire? ping pong pizza conspiracy pro...   \n",
       "22506  cult crimes, mass shootings & media mind contr...   \n",
       "23289  cult crimes, mass shootings & media mind contr...   \n",
       "\n",
       "                                                    text      subject  \\\n",
       "22303  Funny how secrets travel. I d start to believe...      US_News   \n",
       "23086  Funny how secrets travel. I d start to believe...  Middle-east   \n",
       "22506  Shawn Helton mediaThe 1994 cult film Natural B...      US_News   \n",
       "23289  Shawn Helton mediaThe 1994 cult film Natural B...  Middle-east   \n",
       "\n",
       "            date  label  text_len  title_len  \n",
       "22303 2016-12-28      1      8408         13  \n",
       "23086 2016-12-28      1      8408         13  \n",
       "22506 2016-08-13      1      7431         12  \n",
       "23289 2016-08-13      1      7431         12  "
      ]
     },
     "execution_count": 82,
     "metadata": {},
     "output_type": "execute_result"
    }
   ],
   "source": [
    "fake_dup = (\n",
    "    df[df.text.duplicated(keep=False)]\n",
    "    .sort_values(\"text_len\", ascending=False)\n",
    "    .query(\"label == 1\")\n",
    ")\n",
    "print(\"fake news duplicates count examples:\")\n",
    "\n",
    "fake_dup.head(4)"
   ]
  },
  {
   "cell_type": "markdown",
   "metadata": {},
   "source": [
    "> Same text, but categorized into different subjects."
   ]
  },
  {
   "cell_type": "markdown",
   "metadata": {},
   "source": [
    "- text duplication for real news"
   ]
  },
  {
   "cell_type": "code",
   "execution_count": 83,
   "metadata": {},
   "outputs": [
    {
     "name": "stdout",
     "output_type": "stream",
     "text": [
      "real news duplicates examples: \n"
     ]
    },
    {
     "data": {
      "text/html": [
       "<div>\n",
       "<style scoped>\n",
       "    .dataframe tbody tr th:only-of-type {\n",
       "        vertical-align: middle;\n",
       "    }\n",
       "\n",
       "    .dataframe tbody tr th {\n",
       "        vertical-align: top;\n",
       "    }\n",
       "\n",
       "    .dataframe thead th {\n",
       "        text-align: right;\n",
       "    }\n",
       "</style>\n",
       "<table border=\"1\" class=\"dataframe\">\n",
       "  <thead>\n",
       "    <tr style=\"text-align: right;\">\n",
       "      <th></th>\n",
       "      <th>title</th>\n",
       "      <th>text</th>\n",
       "      <th>subject</th>\n",
       "      <th>date</th>\n",
       "      <th>label</th>\n",
       "      <th>text_len</th>\n",
       "      <th>title_len</th>\n",
       "    </tr>\n",
       "  </thead>\n",
       "  <tbody>\n",
       "    <tr>\n",
       "      <th>35313</th>\n",
       "      <td>too late, theresa, brexit offer to eu citizens...</td>\n",
       "      <td>Back from Brussels with a hard-fought Brexit d...</td>\n",
       "      <td>worldnews</td>\n",
       "      <td>2017-12-20</td>\n",
       "      <td>0</td>\n",
       "      <td>1211</td>\n",
       "      <td>11</td>\n",
       "    </tr>\n",
       "    <tr>\n",
       "      <th>35323</th>\n",
       "      <td>too late, theresa - brexit offer to eu citizen...</td>\n",
       "      <td>Back from Brussels with a hard-fought Brexit d...</td>\n",
       "      <td>worldnews</td>\n",
       "      <td>2017-12-20</td>\n",
       "      <td>0</td>\n",
       "      <td>1211</td>\n",
       "      <td>12</td>\n",
       "    </tr>\n",
       "    <tr>\n",
       "      <th>31962</th>\n",
       "      <td>why the zika virus is causing alarm</td>\n",
       "      <td>Global health officials are racing to better u...</td>\n",
       "      <td>politicsNews</td>\n",
       "      <td>2016-08-11</td>\n",
       "      <td>0</td>\n",
       "      <td>1089</td>\n",
       "      <td>7</td>\n",
       "    </tr>\n",
       "    <tr>\n",
       "      <th>31986</th>\n",
       "      <td>why the zika virus is causing alarm</td>\n",
       "      <td>Global health officials are racing to better u...</td>\n",
       "      <td>politicsNews</td>\n",
       "      <td>2016-08-04</td>\n",
       "      <td>0</td>\n",
       "      <td>1089</td>\n",
       "      <td>7</td>\n",
       "    </tr>\n",
       "  </tbody>\n",
       "</table>\n",
       "</div>"
      ],
      "text/plain": [
       "                                                   title  \\\n",
       "35313  too late, theresa, brexit offer to eu citizens...   \n",
       "35323  too late, theresa - brexit offer to eu citizen...   \n",
       "31962                why the zika virus is causing alarm   \n",
       "31986                why the zika virus is causing alarm   \n",
       "\n",
       "                                                    text       subject  \\\n",
       "35313  Back from Brussels with a hard-fought Brexit d...     worldnews   \n",
       "35323  Back from Brussels with a hard-fought Brexit d...     worldnews   \n",
       "31962  Global health officials are racing to better u...  politicsNews   \n",
       "31986  Global health officials are racing to better u...  politicsNews   \n",
       "\n",
       "            date  label  text_len  title_len  \n",
       "35313 2017-12-20      0      1211         11  \n",
       "35323 2017-12-20      0      1211         12  \n",
       "31962 2016-08-11      0      1089          7  \n",
       "31986 2016-08-04      0      1089          7  "
      ]
     },
     "execution_count": 83,
     "metadata": {},
     "output_type": "execute_result"
    }
   ],
   "source": [
    "real_dup = (\n",
    "    df[df.text.duplicated(keep=False)]\n",
    "    .sort_values(\"text_len\", ascending=False)\n",
    "    .query(\"label == 0\")\n",
    ")\n",
    "print(\"real news duplicates examples: \")\n",
    "\n",
    "real_dup.head(4)"
   ]
  },
  {
   "cell_type": "markdown",
   "metadata": {},
   "source": [
    "> Same text, slightly different title or different date."
   ]
  },
  {
   "cell_type": "code",
   "execution_count": 84,
   "metadata": {},
   "outputs": [
    {
     "name": "stdout",
     "output_type": "stream",
     "text": [
      "Text duplicates count:\n",
      "total:  4985\n",
      "fake news:  4965\n",
      "real news:  20\n"
     ]
    }
   ],
   "source": [
    "text_dup_idx = df[df.text.duplicated(keep=\"first\")].index\n",
    "text_dup_fake_idx = df[df.text.duplicated(keep=\"first\") & (df.label == 1)].index\n",
    "text_dup_real_idx = df[df.text.duplicated(keep=\"first\") & (df.label == 0)].index\n",
    "\n",
    "print(\"Text duplicates count:\")\n",
    "print(\"total: \", len(text_dup_idx))\n",
    "print(\"fake news: \", len(text_dup_fake_idx))\n",
    "print(\"real news: \", len(text_dup_real_idx))"
   ]
  },
  {
   "cell_type": "markdown",
   "metadata": {},
   "source": [
    "> Almost all text duplicates are fake news."
   ]
  },
  {
   "cell_type": "markdown",
   "metadata": {},
   "source": [
    "Drop all rows with duplicated texts (keep the first one):"
   ]
  },
  {
   "cell_type": "code",
   "execution_count": 85,
   "metadata": {},
   "outputs": [],
   "source": [
    "df = df.drop(text_dup_idx)\n",
    "\n",
    "assert df.shape[0] == 37739, \"Failed to remove text duplicates\""
   ]
  },
  {
   "cell_type": "markdown",
   "metadata": {},
   "source": [
    "### 5. Split Datasets\n",
    "\n",
    "#### 5.1 Label Distribution Before and After Cleaning"
   ]
  },
  {
   "cell_type": "code",
   "execution_count": 86,
   "metadata": {},
   "outputs": [
    {
     "data": {
      "image/png": "[encoded data removed]",
      "text/plain": [
       "<Figure size 600x300 with 2 Axes>"
      ]
     },
     "metadata": {},
     "output_type": "display_data"
    }
   ],
   "source": [
    "fig_size(6, 3)\n",
    "plt.subplot(1, 2, 1)\n",
    "ax = sns.barplot(org_df.label.value_counts() / org_df.label.value_counts().sum())\n",
    "mark_bar(ax, digit=2)\n",
    "plt.title(\"Original Data Label Distributions\")\n",
    "\n",
    "\n",
    "plt.subplot(1, 2, 2)\n",
    "ax = sns.barplot(df.label.value_counts() / df.label.value_counts().sum())\n",
    "mark_bar(ax, digit=2)\n",
    "plt.title(\"Cleaned Data Label Distributions\")\n",
    "plt.suptitle(\"Label Distribution Before and After Cleaning\", y=1.05)\n",
    "plt.subplots_adjust(wspace=0.5)\n",
    "plt.show()"
   ]
  },
  {
   "cell_type": "markdown",
   "metadata": {},
   "source": [
    "> Initially, the labels were more balanced, but after cleaning, the proportion \\\n",
    "of fake news decreased significantly compared to real news. This was primarily \\\n",
    "due to the removal of duplicate text entries in the fake news category."
   ]
  },
  {
   "cell_type": "markdown",
   "metadata": {},
   "source": [
    "#### 5.2 Data Cleaning"
   ]
  },
  {
   "cell_type": "markdown",
   "metadata": {},
   "source": [
    "Combine title and text into one column for modeling\n",
    "\n",
    "- sequence = title + \" \" + text"
   ]
  },
  {
   "cell_type": "code",
   "execution_count": 87,
   "metadata": {},
   "outputs": [],
   "source": [
    "sequence = df.title + \" \" + df.text\n",
    "df[\"sequence\"] = sequence"
   ]
  },
  {
   "cell_type": "code",
   "execution_count": 88,
   "metadata": {},
   "outputs": [
    {
     "data": {
      "text/plain": [
       "['data/model_dataset_dict.pkl']"
      ]
     },
     "execution_count": 88,
     "metadata": {},
     "output_type": "execute_result"
    }
   ],
   "source": [
    "X = df.loc[:, df.columns.drop(\"label\")]\n",
    "y = df[\"label\"]\n",
    "\n",
    "X_train, X_test, y_train, y_test = train_test_split(\n",
    "    X, y, test_size=0.15, stratify=y, shuffle=True, random_state=0\n",
    ")\n",
    "\n",
    "X_train, X_val, y_train, y_val = train_test_split(\n",
    "    X_train, y_train, test_size=0.15, stratify=y_train, shuffle=True, random_state=0\n",
    ")\n",
    "\n",
    "X_placeholder, X_demo, y_placeholder, y_demo = train_test_split(\n",
    "    X_train, y_train, test_size=0.2, stratify=y_train, shuffle=True, random_state=0\n",
    ")\n",
    "\n",
    "model_dataset_dict = {\n",
    "    \"X_train\": X_train,\n",
    "    \"X_val\": X_val,\n",
    "    \"X_test\": X_test,\n",
    "    \"X_demo\": X_demo,\n",
    "    \"y_train\": y_train,\n",
    "    \"y_val\": y_val,\n",
    "    \"y_test\": y_test,\n",
    "    \"y_demo\": y_demo,\n",
    "}\n",
    "\n",
    "joblib.dump(model_dataset_dict, \"data/model_dataset_dict.pkl\")"
   ]
  },
  {
   "cell_type": "markdown",
   "metadata": {},
   "source": [
    "Prepare train dataset for EDA:"
   ]
  },
  {
   "cell_type": "code",
   "execution_count": 89,
   "metadata": {},
   "outputs": [
    {
     "data": {
      "text/plain": [
       "['data/eda_df_df.pkl']"
      ]
     },
     "execution_count": 89,
     "metadata": {},
     "output_type": "execute_result"
    }
   ],
   "source": [
    "eda_df = X_train.copy()\n",
    "eda_df[\"label\"] = y_train\n",
    "\n",
    "joblib.dump(eda_df, \"data/eda_df_df.pkl\")"
   ]
  },
  {
   "cell_type": "markdown",
   "metadata": {},
   "source": [
    "Ensure the labels are evenly distributed across the datasets:\n",
    "\n",
    "- 0: real news\n",
    "- 1: fake news"
   ]
  },
  {
   "cell_type": "code",
   "execution_count": 16,
   "metadata": {},
   "outputs": [
    {
     "name": "stdout",
     "output_type": "stream",
     "text": [
      "Label Distribution Count across Datasets:\n"
     ]
    },
    {
     "data": {
      "text/html": [
       "<div>\n",
       "<style scoped>\n",
       "    .dataframe tbody tr th:only-of-type {\n",
       "        vertical-align: middle;\n",
       "    }\n",
       "\n",
       "    .dataframe tbody tr th {\n",
       "        vertical-align: top;\n",
       "    }\n",
       "\n",
       "    .dataframe thead th {\n",
       "        text-align: right;\n",
       "    }\n",
       "</style>\n",
       "<table border=\"1\" class=\"dataframe\">\n",
       "  <thead>\n",
       "    <tr style=\"text-align: right;\">\n",
       "      <th>label</th>\n",
       "      <th>0</th>\n",
       "      <th>1</th>\n",
       "    </tr>\n",
       "  </thead>\n",
       "  <tbody>\n",
       "    <tr>\n",
       "      <th>train</th>\n",
       "      <td>15270</td>\n",
       "      <td>11996</td>\n",
       "    </tr>\n",
       "    <tr>\n",
       "      <th>val</th>\n",
       "      <td>2695</td>\n",
       "      <td>2117</td>\n",
       "    </tr>\n",
       "    <tr>\n",
       "      <th>test</th>\n",
       "      <td>3170</td>\n",
       "      <td>2491</td>\n",
       "    </tr>\n",
       "  </tbody>\n",
       "</table>\n",
       "</div>"
      ],
      "text/plain": [
       "label      0      1\n",
       "train  15270  11996\n",
       "val     2695   2117\n",
       "test    3170   2491"
      ]
     },
     "metadata": {},
     "output_type": "display_data"
    },
    {
     "data": {
      "image/png": "[encoded data removed]",
      "text/plain": [
       "<Figure size 1200x300 with 3 Axes>"
      ]
     },
     "metadata": {},
     "output_type": "display_data"
    }
   ],
   "source": [
    "print(\"Label Distribution Count across Datasets:\")\n",
    "dp(\n",
    "    pd.DataFrame(\n",
    "        {\n",
    "            \"train\": y_train.value_counts(),\n",
    "            \"val\": y_val.value_counts(),\n",
    "            \"test\": y_test.value_counts(),\n",
    "        },\n",
    "    ).T\n",
    ")\n",
    "\n",
    "fig_size(12, 3)\n",
    "plt.subplot(1, 3, 1)\n",
    "ax = sns.barplot(y_train.value_counts() / sum(y_train.value_counts()))\n",
    "mark_bar(ax, digit=3)\n",
    "plt.ylabel(\"proportion\")\n",
    "plt.title(\"train\")\n",
    "\n",
    "ax = plt.subplot(1, 3, 2)\n",
    "ax = sns.barplot(y_val.value_counts() / sum(y_val.value_counts()))\n",
    "mark_bar(ax, digit=3)\n",
    "plt.ylabel(\"proportion\")\n",
    "plt.title(\"val\")\n",
    "\n",
    "\n",
    "ax = plt.subplot(1, 3, 3)\n",
    "ax = sns.barplot(y_test.value_counts() / sum(y_test.value_counts()))\n",
    "mark_bar(ax, digit=3)\n",
    "plt.ylabel(\"proportion\")\n",
    "plt.title(\"test\")\n",
    "\n",
    "plt.suptitle(\"Label Distribution Proportion across Datasets\", y=1.05)\n",
    "plt.show()"
   ]
  },
  {
   "cell_type": "markdown",
   "metadata": {},
   "source": [
    "### 6. Conclusion\n",
    "\n"
   ]
  },
  {
   "cell_type": "markdown",
   "metadata": {},
   "source": [
    "💡 This is the end of the notebook, continue to `2_eda.ipynb`"
   ]
  }
 ],
 "metadata": {
  "kernelspec": {
   "display_name": ".venv",
   "language": "python",
   "name": "python3"
  },
  "language_info": {
   "codemirror_mode": {
    "name": "ipython",
    "version": 3
   },
   "file_extension": ".py",
   "mimetype": "text/x-python",
   "name": "python",
   "nbconvert_exporter": "python",
   "pygments_lexer": "ipython3",
   "version": "3.10.9"
  }
 },
 "nbformat": 4,
 "nbformat_minor": 2
}
